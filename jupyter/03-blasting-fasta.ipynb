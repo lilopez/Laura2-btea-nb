{
 "cells": [
  {
   "cell_type": "markdown",
   "metadata": {},
   "source": [
    "#Easier way to download file "
   ]
  },
  {
   "cell_type": "markdown",
   "metadata": {},
   "source": [
    "Location of file on web:\n",
    "http://owl.fish.washington.edu/btea/data/Geoduck-proteome-v2.fasta"
   ]
  },
  {
   "cell_type": "code",
   "execution_count": 2,
   "metadata": {
    "collapsed": false
   },
   "outputs": [
    {
     "name": "stderr",
     "output_type": "stream",
     "text": [
      "  % Total    % Received % Xferd  Average Speed   Time    Time     Time  Current\n",
      "                                 Dload  Upload   Total   Spent    Left  Speed\n",
      "\n",
      "  0     0    0     0    0     0      0      0 --:--:-- --:--:-- --:--:--     0\n",
      "  4 17.4M    4  717k    0     0  1118k      0  0:00:15 --:--:--  0:00:15 1147k\n",
      " 15 17.4M   15 2778k    0     0  1693k      0  0:00:10  0:00:01  0:00:09 1710k\n",
      " 27 17.4M   27 4837k    0     0  1831k      0  0:00:09  0:00:02  0:00:07 1842k\n",
      " 38 17.4M   38 6903k    0     0  1896k      0  0:00:09  0:00:03  0:00:06 1904k\n",
      " 50 17.4M   50 8985k    0     0  1936k      0  0:00:09  0:00:04  0:00:05 1942k\n",
      " 61 17.4M   61 10.7M    0     0  1960k      0  0:00:09  0:00:05  0:00:04 2067k\n",
      " 73 17.4M   73 12.8M    0     0  1977k      0  0:00:09  0:00:06  0:00:03 2070k\n",
      " 85 17.4M   85 14.8M    0     0  1989k      0  0:00:08  0:00:07  0:00:01 2073k\n",
      " 96 17.4M   96 16.8M    0     0  2000k      0  0:00:08  0:00:08 --:--:-- 2077k\n",
      "100 17.4M  100 17.4M    0     0  2004k      0  0:00:08  0:00:08 --:--:-- 2079k\n"
     ]
    }
   ],
   "source": [
    "!curl http://owl.fish.washington.edu/btea/data/Geoduck-proteome-v2.fasta -o\\\n",
    "    ../data/Geoduck-proteome-v2.fasta"
   ]
  },
  {
   "cell_type": "code",
   "execution_count": 1,
   "metadata": {
    "collapsed": false
   },
   "outputs": [
    {
     "name": "stderr",
     "output_type": "stream",
     "text": [
      "  % Total    % Received % Xferd  Average Speed   Time    Time     Time  Current\n",
      "                                 Dload  Upload   Total   Spent    Left  Speed\n",
      "\n",
      "  0     0    0     0    0     0      0      0 --:--:-- --:--:-- --:--:--     0\n",
      "  0     0    0     0    0     0      0      0 --:--:-- --:--:-- --:--:--     0\n",
      "  0     0    0     0    0     0      0      0 --:--:--  0:00:01 --:--:--     0Warning: Failed to create the file ../../big-data/blast/db: Permission denied\n",
      "curl: (23) Failed writing body (0 != 4140)\n"
     ]
    }
   ],
   "source": [
    "!curl ftp://ftp.uniprot.org/pub/databases/uniprot/current_release/knowledgebase/complete/uniprot_sprot.xml.gz -o ../../big-data/blast/db"
   ]
  },
  {
   "cell_type": "code",
   "execution_count": null,
   "metadata": {
    "collapsed": true
   },
   "outputs": [],
   "source": []
  }
 ],
 "metadata": {
  "kernelspec": {
   "display_name": "Python 2",
   "language": "python",
   "name": "python2"
  },
  "language_info": {
   "codemirror_mode": {
    "name": "ipython",
    "version": 2
   },
   "file_extension": ".py",
   "mimetype": "text/x-python",
   "name": "python",
   "nbconvert_exporter": "python",
   "pygments_lexer": "ipython2",
   "version": "2.7.10"
  }
 },
 "nbformat": 4,
 "nbformat_minor": 0
}
