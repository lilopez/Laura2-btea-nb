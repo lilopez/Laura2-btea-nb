{
 "cells": [
  {
   "cell_type": "markdown",
   "metadata": {},
   "source": [
    "# Easier way to download file "
   ]
  },
  {
   "cell_type": "markdown",
   "metadata": {},
   "source": [
    "location of file on web: \n",
    "http://owl.fish.washington.edu/btea/data/Geoduck-proteome-v2.fasta"
   ]
  },
  {
   "cell_type": "code",
   "execution_count": 1,
   "metadata": {
    "collapsed": false
   },
   "outputs": [
    {
     "name": "stderr",
     "output_type": "stream",
     "text": [
      "  % Total    % Received % Xferd  Average Speed   Time    Time     Time  Current\n",
      "                                 Dload  Upload   Total   Spent    Left  Speed\n",
      "\n",
      "  0     0    0     0    0     0      0      0 --:--:-- --:--:-- --:--:--     0\n",
      "  1 17.4M    1  299k    0     0   616k      0  0:00:28 --:--:--  0:00:28  616k\n",
      " 13 17.4M   13 2346k    0     0  1580k      0  0:00:11  0:00:01  0:00:10 1580k\n",
      " 24 17.4M   24 4375k    0     0  1760k      0  0:00:10  0:00:02  0:00:08 1760k\n",
      " 36 17.4M   36 6445k    0     0  1849k      0  0:00:09  0:00:03  0:00:06 1849k\n",
      " 47 17.4M   47 8522k    0     0  1900k      0  0:00:09  0:00:04  0:00:05 1900k\n",
      " 59 17.4M   59 10.3M    0     0  1935k      0  0:00:09  0:00:05  0:00:04 2063k\n",
      " 71 17.4M   71 12.3M    0     0  1955k      0  0:00:09  0:00:06  0:00:03 2067k\n",
      " 82 17.4M   82 14.4M    0     0  1971k      0  0:00:09  0:00:07  0:00:02 2075k\n",
      " 94 17.4M   94 16.4M    0     0  1982k      0  0:00:09  0:00:08  0:00:01 2075k\n",
      "100 17.4M  100 17.4M    0     0  1990k      0  0:00:08  0:00:08 --:--:-- 2081k\n"
     ]
    }
   ],
   "source": [
    "!curl http://owl.fish.washington.edu/btea/data/Geoduck-proteome-v2.fasta -o\\\n",
    "../data/Geoduck-proteome-v2.fasta"
   ]
  },
  {
   "cell_type": "code",
   "execution_count": null,
   "metadata": {
    "collapsed": true
   },
   "outputs": [],
   "source": []
  }
 ],
 "metadata": {
  "kernelspec": {
   "display_name": "Python 2",
   "language": "python",
   "name": "python2"
  },
  "language_info": {
   "codemirror_mode": {
    "name": "ipython",
    "version": 2
   },
   "file_extension": ".py",
   "mimetype": "text/x-python",
   "name": "python",
   "nbconvert_exporter": "python",
   "pygments_lexer": "ipython2",
   "version": "2.7.10"
  }
 },
 "nbformat": 4,
 "nbformat_minor": 0
}
